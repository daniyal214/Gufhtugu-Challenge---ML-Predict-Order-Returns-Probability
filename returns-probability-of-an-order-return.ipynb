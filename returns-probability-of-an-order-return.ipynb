{
 "cells": [
  {
   "cell_type": "markdown",
   "metadata": {
    "papermill": {
     "duration": 0.025824,
     "end_time": "2021-02-15T16:57:03.669630",
     "exception": false,
     "start_time": "2021-02-15T16:57:03.643806",
     "status": "completed"
    },
    "tags": []
   },
   "source": [
    "#### 14-02-2021\n",
    "\n",
    "### Task Details and Objective:\n",
    "* Returns is number one issue for any startup in Pakistan. It can kill the startup in no time. \n",
    "* In this notebook I will predict the possibility of return for a given order (for eg. by city name, book name, payment method etc.)"
   ]
  },
  {
   "cell_type": "code",
   "execution_count": 1,
   "metadata": {
    "_cell_guid": "b1076dfc-b9ad-4769-8c92-a6c4dae69d19",
    "_uuid": "8f2839f25d086af736a60e9eeb907d3b93b6e0e5",
    "execution": {
     "iopub.execute_input": "2021-02-15T16:57:03.725812Z",
     "iopub.status.busy": "2021-02-15T16:57:03.725136Z",
     "iopub.status.idle": "2021-02-15T16:57:03.740734Z",
     "shell.execute_reply": "2021-02-15T16:57:03.741340Z"
    },
    "papermill": {
     "duration": 0.046722,
     "end_time": "2021-02-15T16:57:03.741670",
     "exception": false,
     "start_time": "2021-02-15T16:57:03.694948",
     "status": "completed"
    },
    "tags": []
   },
   "outputs": [
    {
     "name": "stdout",
     "output_type": "stream",
     "text": [
      "/kaggle/input/gufhtugu-publications-dataset-challenge/GP Orders - 2.csv\n",
      "/kaggle/input/gufhtugu-publications-dataset-challenge/GP Orders - 4.csv\n",
      "/kaggle/input/gufhtugu-publications-dataset-challenge/GP Orders - 5.csv\n"
     ]
    }
   ],
   "source": [
    "# This Python 3 environment comes with many helpful analytics libraries installed\n",
    "# It is defined by the kaggle/python Docker image: https://github.com/kaggle/docker-python\n",
    "# For example, here's several helpful packages to load\n",
    "\n",
    "import numpy as np # linear algebra\n",
    "import pandas as pd # data processing, CSV file I/O (e.g. pd.read_csv)\n",
    "import math  \n",
    "\n",
    "# Input data files are available in the read-only \"../input/\" directory\n",
    "# For example, running this (by clicking run or pressing Shift+Enter) will list all files under the input directory\n",
    "\n",
    "import os\n",
    "for dirname, _, filenames in os.walk('/kaggle/input'):\n",
    "    for filename in filenames:\n",
    "        print(os.path.join(dirname, filename))\n",
    "\n",
    "# You can write up to 20GB to the current directory (/kaggle/working/) that gets preserved as output when you create a version using \"Save & Run All\" \n",
    "# You can also write temporary files to /kaggle/temp/, but they won't be saved outside of the current session"
   ]
  },
  {
   "cell_type": "markdown",
   "metadata": {
    "papermill": {
     "duration": 0.024733,
     "end_time": "2021-02-15T16:57:03.792807",
     "exception": false,
     "start_time": "2021-02-15T16:57:03.768074",
     "status": "completed"
    },
    "tags": []
   },
   "source": [
    "### Import data"
   ]
  },
  {
   "cell_type": "code",
   "execution_count": 2,
   "metadata": {
    "execution": {
     "iopub.execute_input": "2021-02-15T16:57:03.847851Z",
     "iopub.status.busy": "2021-02-15T16:57:03.847137Z",
     "iopub.status.idle": "2021-02-15T16:57:03.981632Z",
     "shell.execute_reply": "2021-02-15T16:57:03.982119Z"
    },
    "papermill": {
     "duration": 0.163224,
     "end_time": "2021-02-15T16:57:03.982303",
     "exception": false,
     "start_time": "2021-02-15T16:57:03.819079",
     "status": "completed"
    },
    "tags": []
   },
   "outputs": [
    {
     "data": {
      "text/html": [
       "<div>\n",
       "<style scoped>\n",
       "    .dataframe tbody tr th:only-of-type {\n",
       "        vertical-align: middle;\n",
       "    }\n",
       "\n",
       "    .dataframe tbody tr th {\n",
       "        vertical-align: top;\n",
       "    }\n",
       "\n",
       "    .dataframe thead th {\n",
       "        text-align: right;\n",
       "    }\n",
       "</style>\n",
       "<table border=\"1\" class=\"dataframe\">\n",
       "  <thead>\n",
       "    <tr style=\"text-align: right;\">\n",
       "      <th></th>\n",
       "      <th>Order Number</th>\n",
       "      <th>Order Status</th>\n",
       "      <th>Book Name</th>\n",
       "      <th>Order Date &amp; Time</th>\n",
       "      <th>City</th>\n",
       "      <th>Payment Method</th>\n",
       "      <th>Total items</th>\n",
       "      <th>Total weight (grams)</th>\n",
       "    </tr>\n",
       "  </thead>\n",
       "  <tbody>\n",
       "    <tr>\n",
       "      <th>0</th>\n",
       "      <td>307</td>\n",
       "      <td>Completed</td>\n",
       "      <td>Bitcoin Blockchain aur Crypto Currency - FREE ...</td>\n",
       "      <td>10/3/2019 15:03</td>\n",
       "      <td>faisalabad</td>\n",
       "      <td>NaN</td>\n",
       "      <td>2</td>\n",
       "      <td>200.0</td>\n",
       "    </tr>\n",
       "    <tr>\n",
       "      <th>1</th>\n",
       "      <td>308</td>\n",
       "      <td>Completed</td>\n",
       "      <td>Kaggle for Begginers</td>\n",
       "      <td>10/3/2019 15:54</td>\n",
       "      <td>Rawalpindi</td>\n",
       "      <td>Cash on Delivery (COD)</td>\n",
       "      <td>1</td>\n",
       "      <td>200.0</td>\n",
       "    </tr>\n",
       "    <tr>\n",
       "      <th>2</th>\n",
       "      <td>309</td>\n",
       "      <td>Completed</td>\n",
       "      <td>Kaggle for Begginers/Bitcoin Blockchain aur Cr...</td>\n",
       "      <td>10/3/2019 16:09</td>\n",
       "      <td>Hyderabad</td>\n",
       "      <td>Cash on Delivery (COD)</td>\n",
       "      <td>2</td>\n",
       "      <td>200.0</td>\n",
       "    </tr>\n",
       "    <tr>\n",
       "      <th>3</th>\n",
       "      <td>310</td>\n",
       "      <td>Cancelled</td>\n",
       "      <td>Kaggle for Begginers</td>\n",
       "      <td>10/3/2019 16:42</td>\n",
       "      <td>Rawalpindi</td>\n",
       "      <td>Cash on Delivery (COD)</td>\n",
       "      <td>1</td>\n",
       "      <td>200.0</td>\n",
       "    </tr>\n",
       "    <tr>\n",
       "      <th>4</th>\n",
       "      <td>311</td>\n",
       "      <td>Completed</td>\n",
       "      <td>Bit Coin Block Chain aur Crypto Currency بٹ کو...</td>\n",
       "      <td>10/3/2019 16:44</td>\n",
       "      <td>Karachi</td>\n",
       "      <td>Cash on Delivery (COD)</td>\n",
       "      <td>1</td>\n",
       "      <td>200.0</td>\n",
       "    </tr>\n",
       "  </tbody>\n",
       "</table>\n",
       "</div>"
      ],
      "text/plain": [
       "   Order Number Order Status  \\\n",
       "0           307    Completed   \n",
       "1           308    Completed   \n",
       "2           309    Completed   \n",
       "3           310    Cancelled   \n",
       "4           311    Completed   \n",
       "\n",
       "                                           Book Name Order Date & Time  \\\n",
       "0  Bitcoin Blockchain aur Crypto Currency - FREE ...   10/3/2019 15:03   \n",
       "1                               Kaggle for Begginers   10/3/2019 15:54   \n",
       "2  Kaggle for Begginers/Bitcoin Blockchain aur Cr...   10/3/2019 16:09   \n",
       "3                               Kaggle for Begginers   10/3/2019 16:42   \n",
       "4  Bit Coin Block Chain aur Crypto Currency بٹ کو...   10/3/2019 16:44   \n",
       "\n",
       "         City          Payment Method  Total items  Total weight (grams)  \n",
       "0  faisalabad                     NaN            2                 200.0  \n",
       "1  Rawalpindi  Cash on Delivery (COD)            1                 200.0  \n",
       "2   Hyderabad  Cash on Delivery (COD)            2                 200.0  \n",
       "3  Rawalpindi  Cash on Delivery (COD)            1                 200.0  \n",
       "4    Karachi   Cash on Delivery (COD)            1                 200.0  "
      ]
     },
     "execution_count": 2,
     "metadata": {},
     "output_type": "execute_result"
    }
   ],
   "source": [
    "data = pd.read_csv('/kaggle/input/gufhtugu-publications-dataset-challenge/GP Orders - 5.csv')\n",
    "\n",
    "data.head()"
   ]
  },
  {
   "cell_type": "markdown",
   "metadata": {
    "papermill": {
     "duration": 0.025593,
     "end_time": "2021-02-15T16:57:04.034369",
     "exception": false,
     "start_time": "2021-02-15T16:57:04.008776",
     "status": "completed"
    },
    "tags": []
   },
   "source": [
    "#### For data information"
   ]
  },
  {
   "cell_type": "code",
   "execution_count": 3,
   "metadata": {
    "execution": {
     "iopub.execute_input": "2021-02-15T16:57:04.103923Z",
     "iopub.status.busy": "2021-02-15T16:57:04.103207Z",
     "iopub.status.idle": "2021-02-15T16:57:04.121971Z",
     "shell.execute_reply": "2021-02-15T16:57:04.121299Z"
    },
    "papermill": {
     "duration": 0.061545,
     "end_time": "2021-02-15T16:57:04.122118",
     "exception": false,
     "start_time": "2021-02-15T16:57:04.060573",
     "status": "completed"
    },
    "tags": []
   },
   "outputs": [
    {
     "name": "stdout",
     "output_type": "stream",
     "text": [
      "<class 'pandas.core.frame.DataFrame'>\n",
      "RangeIndex: 19239 entries, 0 to 19238\n",
      "Data columns (total 8 columns):\n",
      " #   Column                Non-Null Count  Dtype  \n",
      "---  ------                --------------  -----  \n",
      " 0   Order Number          19239 non-null  int64  \n",
      " 1   Order Status          19239 non-null  object \n",
      " 2   Book Name             19237 non-null  object \n",
      " 3   Order Date & Time     19239 non-null  object \n",
      " 4   City                  19238 non-null  object \n",
      " 5   Payment Method        19229 non-null  object \n",
      " 6   Total items           19239 non-null  int64  \n",
      " 7   Total weight (grams)  19239 non-null  float64\n",
      "dtypes: float64(1), int64(2), object(5)\n",
      "memory usage: 1.2+ MB\n"
     ]
    }
   ],
   "source": [
    "data.info()"
   ]
  },
  {
   "cell_type": "markdown",
   "metadata": {
    "papermill": {
     "duration": 0.026116,
     "end_time": "2021-02-15T16:57:04.174493",
     "exception": false,
     "start_time": "2021-02-15T16:57:04.148377",
     "status": "completed"
    },
    "tags": []
   },
   "source": [
    "### Checking Null values"
   ]
  },
  {
   "cell_type": "code",
   "execution_count": 4,
   "metadata": {
    "execution": {
     "iopub.execute_input": "2021-02-15T16:57:04.230869Z",
     "iopub.status.busy": "2021-02-15T16:57:04.230132Z",
     "iopub.status.idle": "2021-02-15T16:57:04.248296Z",
     "shell.execute_reply": "2021-02-15T16:57:04.247775Z"
    },
    "papermill": {
     "duration": 0.047465,
     "end_time": "2021-02-15T16:57:04.248444",
     "exception": false,
     "start_time": "2021-02-15T16:57:04.200979",
     "status": "completed"
    },
    "tags": []
   },
   "outputs": [
    {
     "data": {
      "text/plain": [
       "Order Number             0\n",
       "Order Status             0\n",
       "Book Name                2\n",
       "Order Date & Time        0\n",
       "City                     1\n",
       "Payment Method          10\n",
       "Total items              0\n",
       "Total weight (grams)     0\n",
       "dtype: int64"
      ]
     },
     "execution_count": 4,
     "metadata": {},
     "output_type": "execute_result"
    }
   ],
   "source": [
    "data.isnull().sum()"
   ]
  },
  {
   "cell_type": "code",
   "execution_count": 5,
   "metadata": {
    "execution": {
     "iopub.execute_input": "2021-02-15T16:57:04.308215Z",
     "iopub.status.busy": "2021-02-15T16:57:04.307595Z",
     "iopub.status.idle": "2021-02-15T16:57:07.178494Z",
     "shell.execute_reply": "2021-02-15T16:57:07.177945Z"
    },
    "papermill": {
     "duration": 2.903361,
     "end_time": "2021-02-15T16:57:07.178682",
     "exception": false,
     "start_time": "2021-02-15T16:57:04.275321",
     "status": "completed"
    },
    "tags": []
   },
   "outputs": [
    {
     "data": {
      "text/html": [
       "<div>\n",
       "<style scoped>\n",
       "    .dataframe tbody tr th:only-of-type {\n",
       "        vertical-align: middle;\n",
       "    }\n",
       "\n",
       "    .dataframe tbody tr th {\n",
       "        vertical-align: top;\n",
       "    }\n",
       "\n",
       "    .dataframe thead th {\n",
       "        text-align: right;\n",
       "    }\n",
       "</style>\n",
       "<table border=\"1\" class=\"dataframe\">\n",
       "  <thead>\n",
       "    <tr style=\"text-align: right;\">\n",
       "      <th></th>\n",
       "      <th>Order Number</th>\n",
       "      <th>Order Status</th>\n",
       "      <th>Book Name</th>\n",
       "      <th>Order Date &amp; Time</th>\n",
       "      <th>City</th>\n",
       "      <th>Payment Method</th>\n",
       "      <th>Total items</th>\n",
       "      <th>Total weight (grams)</th>\n",
       "    </tr>\n",
       "  </thead>\n",
       "  <tbody>\n",
       "    <tr>\n",
       "      <th>0</th>\n",
       "      <td>307</td>\n",
       "      <td>Completed</td>\n",
       "      <td>Bitcoin Blockchain aur Crypto Currency - FREE ...</td>\n",
       "      <td>10/3/2019 15:03</td>\n",
       "      <td>faisalabad</td>\n",
       "      <td>NaN</td>\n",
       "      <td>2</td>\n",
       "      <td>200.0</td>\n",
       "    </tr>\n",
       "    <tr>\n",
       "      <th>6</th>\n",
       "      <td>313</td>\n",
       "      <td>Completed</td>\n",
       "      <td>Bitcoin Blockchain aur Crypto Currency - FREE ...</td>\n",
       "      <td>10/3/2019 19:04</td>\n",
       "      <td>Lahore</td>\n",
       "      <td>NaN</td>\n",
       "      <td>2</td>\n",
       "      <td>200.0</td>\n",
       "    </tr>\n",
       "    <tr>\n",
       "      <th>12350</th>\n",
       "      <td>60457</td>\n",
       "      <td>Returned</td>\n",
       "      <td>NaN</td>\n",
       "      <td>11/14/2020 0:00</td>\n",
       "      <td>Dera Ismail Khan</td>\n",
       "      <td>BankTransfer</td>\n",
       "      <td>0</td>\n",
       "      <td>200.0</td>\n",
       "    </tr>\n",
       "    <tr>\n",
       "      <th>15266</th>\n",
       "      <td>65221</td>\n",
       "      <td>Completed</td>\n",
       "      <td>Blockchain, Cryptocurrency And Bitcoin/R ka Ta...</td>\n",
       "      <td>12/17/2020 7:18</td>\n",
       "      <td>NaN</td>\n",
       "      <td>BankTransfer</td>\n",
       "      <td>6</td>\n",
       "      <td>500.0</td>\n",
       "    </tr>\n",
       "    <tr>\n",
       "      <th>16976</th>\n",
       "      <td>67823</td>\n",
       "      <td>Returned</td>\n",
       "      <td>NaN</td>\n",
       "      <td>1/2/2021 20:31</td>\n",
       "      <td>Karachi</td>\n",
       "      <td>EasyPaisa</td>\n",
       "      <td>0</td>\n",
       "      <td>200.0</td>\n",
       "    </tr>\n",
       "    <tr>\n",
       "      <th>19070</th>\n",
       "      <td>70795</td>\n",
       "      <td>Completed</td>\n",
       "      <td>Europe Ke Baankey</td>\n",
       "      <td>1/16/2021 20:45</td>\n",
       "      <td>d i khan</td>\n",
       "      <td>NaN</td>\n",
       "      <td>1</td>\n",
       "      <td>200.0</td>\n",
       "    </tr>\n",
       "    <tr>\n",
       "      <th>19087</th>\n",
       "      <td>70819</td>\n",
       "      <td>Completed</td>\n",
       "      <td>Safar e Hajj</td>\n",
       "      <td>1/16/2021 23:56</td>\n",
       "      <td>Islamabad</td>\n",
       "      <td>NaN</td>\n",
       "      <td>1</td>\n",
       "      <td>200.0</td>\n",
       "    </tr>\n",
       "    <tr>\n",
       "      <th>19134</th>\n",
       "      <td>70883</td>\n",
       "      <td>Completed</td>\n",
       "      <td>Fasana Ajaib/Safar e Hajj</td>\n",
       "      <td>1/18/2021 12:09</td>\n",
       "      <td>Jauharabad , Distt Khushab</td>\n",
       "      <td>NaN</td>\n",
       "      <td>2</td>\n",
       "      <td>200.0</td>\n",
       "    </tr>\n",
       "    <tr>\n",
       "      <th>19154</th>\n",
       "      <td>70921</td>\n",
       "      <td>Completed</td>\n",
       "      <td>Dilli Gadar Se Pehle/Purane Lakhnau Ki Jhalkiy...</td>\n",
       "      <td>1/19/2021 2:33</td>\n",
       "      <td>mansehra</td>\n",
       "      <td>NaN</td>\n",
       "      <td>6</td>\n",
       "      <td>200.0</td>\n",
       "    </tr>\n",
       "    <tr>\n",
       "      <th>19155</th>\n",
       "      <td>70922</td>\n",
       "      <td>Completed</td>\n",
       "      <td>Ajaibaat E Farang/Europe Ke Baankey</td>\n",
       "      <td>1/19/2021 2:39</td>\n",
       "      <td>mansehra</td>\n",
       "      <td>NaN</td>\n",
       "      <td>3</td>\n",
       "      <td>200.0</td>\n",
       "    </tr>\n",
       "    <tr>\n",
       "      <th>19156</th>\n",
       "      <td>70923</td>\n",
       "      <td>Completed</td>\n",
       "      <td>Ajaibaat E Farang/Europe Ke Baankey</td>\n",
       "      <td>1/19/2021 2:39</td>\n",
       "      <td>mansehra</td>\n",
       "      <td>NaN</td>\n",
       "      <td>3</td>\n",
       "      <td>200.0</td>\n",
       "    </tr>\n",
       "    <tr>\n",
       "      <th>19168</th>\n",
       "      <td>70945</td>\n",
       "      <td>Completed</td>\n",
       "      <td>Jauhar E Akhlaq</td>\n",
       "      <td>1/19/2021 20:33</td>\n",
       "      <td>Karachi</td>\n",
       "      <td>NaN</td>\n",
       "      <td>1</td>\n",
       "      <td>200.0</td>\n",
       "    </tr>\n",
       "    <tr>\n",
       "      <th>19176</th>\n",
       "      <td>70956</td>\n",
       "      <td>Completed</td>\n",
       "      <td>Firdaus E Bareen</td>\n",
       "      <td>1/20/2021 9:28</td>\n",
       "      <td>Wah Cantt, Taxila, Rawalpindi</td>\n",
       "      <td>NaN</td>\n",
       "      <td>1</td>\n",
       "      <td>200.0</td>\n",
       "    </tr>\n",
       "  </tbody>\n",
       "</table>\n",
       "</div>"
      ],
      "text/plain": [
       "       Order Number Order Status  \\\n",
       "0               307    Completed   \n",
       "6               313    Completed   \n",
       "12350         60457     Returned   \n",
       "15266         65221    Completed   \n",
       "16976         67823     Returned   \n",
       "19070         70795    Completed   \n",
       "19087         70819    Completed   \n",
       "19134         70883    Completed   \n",
       "19154         70921    Completed   \n",
       "19155         70922    Completed   \n",
       "19156         70923    Completed   \n",
       "19168         70945    Completed   \n",
       "19176         70956    Completed   \n",
       "\n",
       "                                               Book Name Order Date & Time  \\\n",
       "0      Bitcoin Blockchain aur Crypto Currency - FREE ...   10/3/2019 15:03   \n",
       "6      Bitcoin Blockchain aur Crypto Currency - FREE ...   10/3/2019 19:04   \n",
       "12350                                                NaN   11/14/2020 0:00   \n",
       "15266  Blockchain, Cryptocurrency And Bitcoin/R ka Ta...   12/17/2020 7:18   \n",
       "16976                                                NaN    1/2/2021 20:31   \n",
       "19070                                  Europe Ke Baankey   1/16/2021 20:45   \n",
       "19087                                       Safar e Hajj   1/16/2021 23:56   \n",
       "19134                          Fasana Ajaib/Safar e Hajj   1/18/2021 12:09   \n",
       "19154  Dilli Gadar Se Pehle/Purane Lakhnau Ki Jhalkiy...    1/19/2021 2:33   \n",
       "19155                Ajaibaat E Farang/Europe Ke Baankey    1/19/2021 2:39   \n",
       "19156                Ajaibaat E Farang/Europe Ke Baankey    1/19/2021 2:39   \n",
       "19168                                    Jauhar E Akhlaq   1/19/2021 20:33   \n",
       "19176                                   Firdaus E Bareen    1/20/2021 9:28   \n",
       "\n",
       "                                City Payment Method  Total items  \\\n",
       "0                         faisalabad            NaN            2   \n",
       "6                             Lahore            NaN            2   \n",
       "12350               Dera Ismail Khan   BankTransfer            0   \n",
       "15266                            NaN   BankTransfer            6   \n",
       "16976                        Karachi      EasyPaisa            0   \n",
       "19070                       d i khan            NaN            1   \n",
       "19087                      Islamabad            NaN            1   \n",
       "19134     Jauharabad , Distt Khushab            NaN            2   \n",
       "19154                       mansehra            NaN            6   \n",
       "19155                       mansehra            NaN            3   \n",
       "19156                       mansehra            NaN            3   \n",
       "19168                        Karachi            NaN            1   \n",
       "19176  Wah Cantt, Taxila, Rawalpindi            NaN            1   \n",
       "\n",
       "       Total weight (grams)  \n",
       "0                     200.0  \n",
       "6                     200.0  \n",
       "12350                 200.0  \n",
       "15266                 500.0  \n",
       "16976                 200.0  \n",
       "19070                 200.0  \n",
       "19087                 200.0  \n",
       "19134                 200.0  \n",
       "19154                 200.0  \n",
       "19155                 200.0  \n",
       "19156                 200.0  \n",
       "19168                 200.0  \n",
       "19176                 200.0  "
      ]
     },
     "execution_count": 5,
     "metadata": {},
     "output_type": "execute_result"
    }
   ],
   "source": [
    "data[(data.apply(lambda x : sum(x.isnull().values), axis=1) > 0)]"
   ]
  },
  {
   "cell_type": "markdown",
   "metadata": {
    "papermill": {
     "duration": 0.02805,
     "end_time": "2021-02-15T16:57:07.234986",
     "exception": false,
     "start_time": "2021-02-15T16:57:07.206936",
     "status": "completed"
    },
    "tags": []
   },
   "source": [
    "### Data Dimension"
   ]
  },
  {
   "cell_type": "code",
   "execution_count": 6,
   "metadata": {
    "execution": {
     "iopub.execute_input": "2021-02-15T16:57:07.297105Z",
     "iopub.status.busy": "2021-02-15T16:57:07.296323Z",
     "iopub.status.idle": "2021-02-15T16:57:07.299589Z",
     "shell.execute_reply": "2021-02-15T16:57:07.300059Z"
    },
    "papermill": {
     "duration": 0.037344,
     "end_time": "2021-02-15T16:57:07.300234",
     "exception": false,
     "start_time": "2021-02-15T16:57:07.262890",
     "status": "completed"
    },
    "tags": []
   },
   "outputs": [
    {
     "data": {
      "text/plain": [
       "(19239, 8)"
      ]
     },
     "execution_count": 6,
     "metadata": {},
     "output_type": "execute_result"
    }
   ],
   "source": [
    "data.shape"
   ]
  },
  {
   "cell_type": "code",
   "execution_count": 7,
   "metadata": {
    "execution": {
     "iopub.execute_input": "2021-02-15T16:57:07.360962Z",
     "iopub.status.busy": "2021-02-15T16:57:07.360228Z",
     "iopub.status.idle": "2021-02-15T16:57:07.377109Z",
     "shell.execute_reply": "2021-02-15T16:57:07.377624Z"
    },
    "papermill": {
     "duration": 0.049446,
     "end_time": "2021-02-15T16:57:07.377816",
     "exception": false,
     "start_time": "2021-02-15T16:57:07.328370",
     "status": "completed"
    },
    "tags": []
   },
   "outputs": [
    {
     "data": {
      "text/html": [
       "<div>\n",
       "<style scoped>\n",
       "    .dataframe tbody tr th:only-of-type {\n",
       "        vertical-align: middle;\n",
       "    }\n",
       "\n",
       "    .dataframe tbody tr th {\n",
       "        vertical-align: top;\n",
       "    }\n",
       "\n",
       "    .dataframe thead th {\n",
       "        text-align: right;\n",
       "    }\n",
       "</style>\n",
       "<table border=\"1\" class=\"dataframe\">\n",
       "  <thead>\n",
       "    <tr style=\"text-align: right;\">\n",
       "      <th></th>\n",
       "      <th>Order Number</th>\n",
       "      <th>Order Status</th>\n",
       "      <th>Book Name</th>\n",
       "      <th>Order Date &amp; Time</th>\n",
       "      <th>City</th>\n",
       "      <th>Payment Method</th>\n",
       "      <th>Total items</th>\n",
       "      <th>Total weight (grams)</th>\n",
       "    </tr>\n",
       "  </thead>\n",
       "  <tbody>\n",
       "    <tr>\n",
       "      <th>12350</th>\n",
       "      <td>60457</td>\n",
       "      <td>Returned</td>\n",
       "      <td>NaN</td>\n",
       "      <td>11/14/2020 0:00</td>\n",
       "      <td>Dera Ismail Khan</td>\n",
       "      <td>BankTransfer</td>\n",
       "      <td>0</td>\n",
       "      <td>200.0</td>\n",
       "    </tr>\n",
       "    <tr>\n",
       "      <th>16976</th>\n",
       "      <td>67823</td>\n",
       "      <td>Returned</td>\n",
       "      <td>NaN</td>\n",
       "      <td>1/2/2021 20:31</td>\n",
       "      <td>Karachi</td>\n",
       "      <td>EasyPaisa</td>\n",
       "      <td>0</td>\n",
       "      <td>200.0</td>\n",
       "    </tr>\n",
       "  </tbody>\n",
       "</table>\n",
       "</div>"
      ],
      "text/plain": [
       "       Order Number Order Status Book Name Order Date & Time  \\\n",
       "12350         60457     Returned       NaN   11/14/2020 0:00   \n",
       "16976         67823     Returned       NaN    1/2/2021 20:31   \n",
       "\n",
       "                   City Payment Method  Total items  Total weight (grams)  \n",
       "12350  Dera Ismail Khan   BankTransfer            0                 200.0  \n",
       "16976           Karachi      EasyPaisa            0                 200.0  "
      ]
     },
     "execution_count": 7,
     "metadata": {},
     "output_type": "execute_result"
    }
   ],
   "source": [
    "data[data['Book Name'].isnull()]"
   ]
  },
  {
   "cell_type": "code",
   "execution_count": 8,
   "metadata": {
    "execution": {
     "iopub.execute_input": "2021-02-15T16:57:07.439064Z",
     "iopub.status.busy": "2021-02-15T16:57:07.438080Z",
     "iopub.status.idle": "2021-02-15T16:57:07.445928Z",
     "shell.execute_reply": "2021-02-15T16:57:07.445336Z"
    },
    "papermill": {
     "duration": 0.03953,
     "end_time": "2021-02-15T16:57:07.446074",
     "exception": false,
     "start_time": "2021-02-15T16:57:07.406544",
     "status": "completed"
    },
    "tags": []
   },
   "outputs": [],
   "source": [
    "data.drop(data.index[[12350, 16976]],inplace=True)"
   ]
  },
  {
   "cell_type": "markdown",
   "metadata": {
    "papermill": {
     "duration": 0.028432,
     "end_time": "2021-02-15T16:57:07.503398",
     "exception": false,
     "start_time": "2021-02-15T16:57:07.474966",
     "status": "completed"
    },
    "tags": []
   },
   "source": [
    "### Splitting\n",
    "#### Many rows contains multiple books in same row, so splitting them to get each book in separate rows."
   ]
  },
  {
   "cell_type": "code",
   "execution_count": 9,
   "metadata": {
    "execution": {
     "iopub.execute_input": "2021-02-15T16:57:07.564189Z",
     "iopub.status.busy": "2021-02-15T16:57:07.563507Z",
     "iopub.status.idle": "2021-02-15T16:57:08.717481Z",
     "shell.execute_reply": "2021-02-15T16:57:08.717986Z"
    },
    "papermill": {
     "duration": 1.186026,
     "end_time": "2021-02-15T16:57:08.718172",
     "exception": false,
     "start_time": "2021-02-15T16:57:07.532146",
     "status": "completed"
    },
    "tags": []
   },
   "outputs": [],
   "source": [
    "new_df = pd.DataFrame(data['Book Name'].str.split('/').tolist(), index=data['Order Number']).stack()\n",
    "\n",
    "new_df = new_df.reset_index([0, 'Order Number'])\n",
    "\n",
    "new_df.columns = ['Order Number', 'Book Name']"
   ]
  },
  {
   "cell_type": "code",
   "execution_count": 10,
   "metadata": {
    "execution": {
     "iopub.execute_input": "2021-02-15T16:57:08.788420Z",
     "iopub.status.busy": "2021-02-15T16:57:08.787659Z",
     "iopub.status.idle": "2021-02-15T16:57:08.791802Z",
     "shell.execute_reply": "2021-02-15T16:57:08.792279Z"
    },
    "papermill": {
     "duration": 0.044859,
     "end_time": "2021-02-15T16:57:08.792456",
     "exception": false,
     "start_time": "2021-02-15T16:57:08.747597",
     "status": "completed"
    },
    "tags": []
   },
   "outputs": [
    {
     "data": {
      "text/html": [
       "<div>\n",
       "<style scoped>\n",
       "    .dataframe tbody tr th:only-of-type {\n",
       "        vertical-align: middle;\n",
       "    }\n",
       "\n",
       "    .dataframe tbody tr th {\n",
       "        vertical-align: top;\n",
       "    }\n",
       "\n",
       "    .dataframe thead th {\n",
       "        text-align: right;\n",
       "    }\n",
       "</style>\n",
       "<table border=\"1\" class=\"dataframe\">\n",
       "  <thead>\n",
       "    <tr style=\"text-align: right;\">\n",
       "      <th></th>\n",
       "      <th>Order Number</th>\n",
       "      <th>Book Name</th>\n",
       "    </tr>\n",
       "  </thead>\n",
       "  <tbody>\n",
       "    <tr>\n",
       "      <th>0</th>\n",
       "      <td>307</td>\n",
       "      <td>Bitcoin Blockchain aur Crypto Currency - FREE ...</td>\n",
       "    </tr>\n",
       "    <tr>\n",
       "      <th>1</th>\n",
       "      <td>308</td>\n",
       "      <td>Kaggle for Begginers</td>\n",
       "    </tr>\n",
       "    <tr>\n",
       "      <th>2</th>\n",
       "      <td>309</td>\n",
       "      <td>Kaggle for Begginers</td>\n",
       "    </tr>\n",
       "    <tr>\n",
       "      <th>3</th>\n",
       "      <td>309</td>\n",
       "      <td>Bitcoin Blockchain aur Crypto Currency - FREE ...</td>\n",
       "    </tr>\n",
       "    <tr>\n",
       "      <th>4</th>\n",
       "      <td>310</td>\n",
       "      <td>Kaggle for Begginers</td>\n",
       "    </tr>\n",
       "    <tr>\n",
       "      <th>...</th>\n",
       "      <td>...</td>\n",
       "      <td>...</td>\n",
       "    </tr>\n",
       "    <tr>\n",
       "      <th>33248</th>\n",
       "      <td>71420</td>\n",
       "      <td>Kaggle for Begginers</td>\n",
       "    </tr>\n",
       "    <tr>\n",
       "      <th>33249</th>\n",
       "      <td>71420</td>\n",
       "      <td>Artificial Intelligence</td>\n",
       "    </tr>\n",
       "    <tr>\n",
       "      <th>33250</th>\n",
       "      <td>71420</td>\n",
       "      <td>ایک تھا الگورتھم</td>\n",
       "    </tr>\n",
       "    <tr>\n",
       "      <th>33251</th>\n",
       "      <td>71420</td>\n",
       "      <td>R ka Taaruf</td>\n",
       "    </tr>\n",
       "    <tr>\n",
       "      <th>33252</th>\n",
       "      <td>71420</td>\n",
       "      <td>مشین لرننگ</td>\n",
       "    </tr>\n",
       "  </tbody>\n",
       "</table>\n",
       "<p>33253 rows × 2 columns</p>\n",
       "</div>"
      ],
      "text/plain": [
       "       Order Number                                          Book Name\n",
       "0               307  Bitcoin Blockchain aur Crypto Currency - FREE ...\n",
       "1               308                               Kaggle for Begginers\n",
       "2               309                               Kaggle for Begginers\n",
       "3               309  Bitcoin Blockchain aur Crypto Currency - FREE ...\n",
       "4               310                               Kaggle for Begginers\n",
       "...             ...                                                ...\n",
       "33248         71420                               Kaggle for Begginers\n",
       "33249         71420                            Artificial Intelligence\n",
       "33250         71420                                   ایک تھا الگورتھم\n",
       "33251         71420                                        R ka Taaruf\n",
       "33252         71420                                         مشین لرننگ\n",
       "\n",
       "[33253 rows x 2 columns]"
      ]
     },
     "execution_count": 10,
     "metadata": {},
     "output_type": "execute_result"
    }
   ],
   "source": [
    "new_df"
   ]
  },
  {
   "cell_type": "markdown",
   "metadata": {
    "papermill": {
     "duration": 0.029712,
     "end_time": "2021-02-15T16:57:08.851946",
     "exception": false,
     "start_time": "2021-02-15T16:57:08.822234",
     "status": "completed"
    },
    "tags": []
   },
   "source": [
    "### Merging"
   ]
  },
  {
   "cell_type": "code",
   "execution_count": 11,
   "metadata": {
    "execution": {
     "iopub.execute_input": "2021-02-15T16:57:08.916541Z",
     "iopub.status.busy": "2021-02-15T16:57:08.915817Z",
     "iopub.status.idle": "2021-02-15T16:57:08.938644Z",
     "shell.execute_reply": "2021-02-15T16:57:08.939185Z"
    },
    "papermill": {
     "duration": 0.057824,
     "end_time": "2021-02-15T16:57:08.939372",
     "exception": false,
     "start_time": "2021-02-15T16:57:08.881548",
     "status": "completed"
    },
    "tags": []
   },
   "outputs": [],
   "source": [
    "data = pd.merge(data, new_df, on=[\"Order Number\"])"
   ]
  },
  {
   "cell_type": "code",
   "execution_count": 12,
   "metadata": {
    "execution": {
     "iopub.execute_input": "2021-02-15T16:57:09.003274Z",
     "iopub.status.busy": "2021-02-15T16:57:09.002594Z",
     "iopub.status.idle": "2021-02-15T16:57:09.017986Z",
     "shell.execute_reply": "2021-02-15T16:57:09.018603Z"
    },
    "papermill": {
     "duration": 0.049575,
     "end_time": "2021-02-15T16:57:09.018787",
     "exception": false,
     "start_time": "2021-02-15T16:57:08.969212",
     "status": "completed"
    },
    "tags": []
   },
   "outputs": [
    {
     "data": {
      "text/html": [
       "<div>\n",
       "<style scoped>\n",
       "    .dataframe tbody tr th:only-of-type {\n",
       "        vertical-align: middle;\n",
       "    }\n",
       "\n",
       "    .dataframe tbody tr th {\n",
       "        vertical-align: top;\n",
       "    }\n",
       "\n",
       "    .dataframe thead th {\n",
       "        text-align: right;\n",
       "    }\n",
       "</style>\n",
       "<table border=\"1\" class=\"dataframe\">\n",
       "  <thead>\n",
       "    <tr style=\"text-align: right;\">\n",
       "      <th></th>\n",
       "      <th>Order Number</th>\n",
       "      <th>Order Status</th>\n",
       "      <th>Book Name_x</th>\n",
       "      <th>Order Date &amp; Time</th>\n",
       "      <th>City</th>\n",
       "      <th>Payment Method</th>\n",
       "      <th>Total items</th>\n",
       "      <th>Total weight (grams)</th>\n",
       "      <th>Book Name_y</th>\n",
       "    </tr>\n",
       "  </thead>\n",
       "  <tbody>\n",
       "    <tr>\n",
       "      <th>0</th>\n",
       "      <td>307</td>\n",
       "      <td>Completed</td>\n",
       "      <td>Bitcoin Blockchain aur Crypto Currency - FREE ...</td>\n",
       "      <td>10/3/2019 15:03</td>\n",
       "      <td>faisalabad</td>\n",
       "      <td>NaN</td>\n",
       "      <td>2</td>\n",
       "      <td>200.0</td>\n",
       "      <td>Bitcoin Blockchain aur Crypto Currency - FREE ...</td>\n",
       "    </tr>\n",
       "    <tr>\n",
       "      <th>1</th>\n",
       "      <td>308</td>\n",
       "      <td>Completed</td>\n",
       "      <td>Kaggle for Begginers</td>\n",
       "      <td>10/3/2019 15:54</td>\n",
       "      <td>Rawalpindi</td>\n",
       "      <td>Cash on Delivery (COD)</td>\n",
       "      <td>1</td>\n",
       "      <td>200.0</td>\n",
       "      <td>Kaggle for Begginers</td>\n",
       "    </tr>\n",
       "    <tr>\n",
       "      <th>2</th>\n",
       "      <td>309</td>\n",
       "      <td>Completed</td>\n",
       "      <td>Kaggle for Begginers/Bitcoin Blockchain aur Cr...</td>\n",
       "      <td>10/3/2019 16:09</td>\n",
       "      <td>Hyderabad</td>\n",
       "      <td>Cash on Delivery (COD)</td>\n",
       "      <td>2</td>\n",
       "      <td>200.0</td>\n",
       "      <td>Kaggle for Begginers</td>\n",
       "    </tr>\n",
       "    <tr>\n",
       "      <th>3</th>\n",
       "      <td>309</td>\n",
       "      <td>Completed</td>\n",
       "      <td>Kaggle for Begginers/Bitcoin Blockchain aur Cr...</td>\n",
       "      <td>10/3/2019 16:09</td>\n",
       "      <td>Hyderabad</td>\n",
       "      <td>Cash on Delivery (COD)</td>\n",
       "      <td>2</td>\n",
       "      <td>200.0</td>\n",
       "      <td>Bitcoin Blockchain aur Crypto Currency - FREE ...</td>\n",
       "    </tr>\n",
       "    <tr>\n",
       "      <th>4</th>\n",
       "      <td>310</td>\n",
       "      <td>Cancelled</td>\n",
       "      <td>Kaggle for Begginers</td>\n",
       "      <td>10/3/2019 16:42</td>\n",
       "      <td>Rawalpindi</td>\n",
       "      <td>Cash on Delivery (COD)</td>\n",
       "      <td>1</td>\n",
       "      <td>200.0</td>\n",
       "      <td>Kaggle for Begginers</td>\n",
       "    </tr>\n",
       "  </tbody>\n",
       "</table>\n",
       "</div>"
      ],
      "text/plain": [
       "   Order Number Order Status  \\\n",
       "0           307    Completed   \n",
       "1           308    Completed   \n",
       "2           309    Completed   \n",
       "3           309    Completed   \n",
       "4           310    Cancelled   \n",
       "\n",
       "                                         Book Name_x Order Date & Time  \\\n",
       "0  Bitcoin Blockchain aur Crypto Currency - FREE ...   10/3/2019 15:03   \n",
       "1                               Kaggle for Begginers   10/3/2019 15:54   \n",
       "2  Kaggle for Begginers/Bitcoin Blockchain aur Cr...   10/3/2019 16:09   \n",
       "3  Kaggle for Begginers/Bitcoin Blockchain aur Cr...   10/3/2019 16:09   \n",
       "4                               Kaggle for Begginers   10/3/2019 16:42   \n",
       "\n",
       "         City          Payment Method  Total items  Total weight (grams)  \\\n",
       "0  faisalabad                     NaN            2                 200.0   \n",
       "1  Rawalpindi  Cash on Delivery (COD)            1                 200.0   \n",
       "2   Hyderabad  Cash on Delivery (COD)            2                 200.0   \n",
       "3   Hyderabad  Cash on Delivery (COD)            2                 200.0   \n",
       "4  Rawalpindi  Cash on Delivery (COD)            1                 200.0   \n",
       "\n",
       "                                         Book Name_y  \n",
       "0  Bitcoin Blockchain aur Crypto Currency - FREE ...  \n",
       "1                               Kaggle for Begginers  \n",
       "2                               Kaggle for Begginers  \n",
       "3  Bitcoin Blockchain aur Crypto Currency - FREE ...  \n",
       "4                               Kaggle for Begginers  "
      ]
     },
     "execution_count": 12,
     "metadata": {},
     "output_type": "execute_result"
    }
   ],
   "source": [
    "data.head()"
   ]
  },
  {
   "cell_type": "markdown",
   "metadata": {
    "papermill": {
     "duration": 0.029754,
     "end_time": "2021-02-15T16:57:09.079113",
     "exception": false,
     "start_time": "2021-02-15T16:57:09.049359",
     "status": "completed"
    },
    "tags": []
   },
   "source": [
    "#### New dimension"
   ]
  },
  {
   "cell_type": "code",
   "execution_count": 13,
   "metadata": {
    "execution": {
     "iopub.execute_input": "2021-02-15T16:57:09.144773Z",
     "iopub.status.busy": "2021-02-15T16:57:09.144077Z",
     "iopub.status.idle": "2021-02-15T16:57:09.147128Z",
     "shell.execute_reply": "2021-02-15T16:57:09.147602Z"
    },
    "papermill": {
     "duration": 0.038422,
     "end_time": "2021-02-15T16:57:09.147796",
     "exception": false,
     "start_time": "2021-02-15T16:57:09.109374",
     "status": "completed"
    },
    "tags": []
   },
   "outputs": [
    {
     "data": {
      "text/plain": [
       "(33253, 9)"
      ]
     },
     "execution_count": 13,
     "metadata": {},
     "output_type": "execute_result"
    }
   ],
   "source": [
    "data.shape"
   ]
  },
  {
   "cell_type": "markdown",
   "metadata": {
    "papermill": {
     "duration": 0.030823,
     "end_time": "2021-02-15T16:57:09.209767",
     "exception": false,
     "start_time": "2021-02-15T16:57:09.178944",
     "status": "completed"
    },
    "tags": []
   },
   "source": [
    "### Cleaning extra columns"
   ]
  },
  {
   "cell_type": "code",
   "execution_count": 14,
   "metadata": {
    "execution": {
     "iopub.execute_input": "2021-02-15T16:57:09.274088Z",
     "iopub.status.busy": "2021-02-15T16:57:09.273418Z",
     "iopub.status.idle": "2021-02-15T16:57:09.293887Z",
     "shell.execute_reply": "2021-02-15T16:57:09.294410Z"
    },
    "papermill": {
     "duration": 0.054436,
     "end_time": "2021-02-15T16:57:09.294620",
     "exception": false,
     "start_time": "2021-02-15T16:57:09.240184",
     "status": "completed"
    },
    "tags": []
   },
   "outputs": [],
   "source": [
    "data['Book Name'] = data['Book Name_y']\n",
    "data.drop(['Book Name_x'], axis=1, inplace=True)\n",
    "data.drop(['Book Name_y'], axis=1, inplace=True)"
   ]
  },
  {
   "cell_type": "code",
   "execution_count": 15,
   "metadata": {
    "execution": {
     "iopub.execute_input": "2021-02-15T16:57:09.360694Z",
     "iopub.status.busy": "2021-02-15T16:57:09.359998Z",
     "iopub.status.idle": "2021-02-15T16:57:09.387175Z",
     "shell.execute_reply": "2021-02-15T16:57:09.387713Z"
    },
    "papermill": {
     "duration": 0.061749,
     "end_time": "2021-02-15T16:57:09.388053",
     "exception": false,
     "start_time": "2021-02-15T16:57:09.326304",
     "status": "completed"
    },
    "tags": []
   },
   "outputs": [],
   "source": [
    "data.dropna(inplace=True)"
   ]
  },
  {
   "cell_type": "markdown",
   "metadata": {
    "papermill": {
     "duration": 0.030804,
     "end_time": "2021-02-15T16:57:09.450534",
     "exception": false,
     "start_time": "2021-02-15T16:57:09.419730",
     "status": "completed"
    },
    "tags": []
   },
   "source": [
    "### Renaming"
   ]
  },
  {
   "cell_type": "code",
   "execution_count": 16,
   "metadata": {
    "execution": {
     "iopub.execute_input": "2021-02-15T16:57:09.516622Z",
     "iopub.status.busy": "2021-02-15T16:57:09.515944Z",
     "iopub.status.idle": "2021-02-15T16:57:09.528595Z",
     "shell.execute_reply": "2021-02-15T16:57:09.529090Z"
    },
    "papermill": {
     "duration": 0.047381,
     "end_time": "2021-02-15T16:57:09.529293",
     "exception": false,
     "start_time": "2021-02-15T16:57:09.481912",
     "status": "completed"
    },
    "tags": []
   },
   "outputs": [],
   "source": [
    "data['Payment Method'].replace({'Cash on delivery': 'COD', 'Cash on Delivery (COD)': 'COD'}, inplace=True)"
   ]
  },
  {
   "cell_type": "code",
   "execution_count": 17,
   "metadata": {
    "execution": {
     "iopub.execute_input": "2021-02-15T16:57:09.596033Z",
     "iopub.status.busy": "2021-02-15T16:57:09.595368Z",
     "iopub.status.idle": "2021-02-15T16:57:09.620909Z",
     "shell.execute_reply": "2021-02-15T16:57:09.621393Z"
    },
    "papermill": {
     "duration": 0.060828,
     "end_time": "2021-02-15T16:57:09.621601",
     "exception": false,
     "start_time": "2021-02-15T16:57:09.560773",
     "status": "completed"
    },
    "tags": []
   },
   "outputs": [
    {
     "data": {
      "text/plain": [
       "Order Number            0\n",
       "Order Status            0\n",
       "Order Date & Time       0\n",
       "City                    0\n",
       "Payment Method          0\n",
       "Total items             0\n",
       "Total weight (grams)    0\n",
       "Book Name               0\n",
       "dtype: int64"
      ]
     },
     "execution_count": 17,
     "metadata": {},
     "output_type": "execute_result"
    }
   ],
   "source": [
    "data.isnull().sum()"
   ]
  },
  {
   "cell_type": "code",
   "execution_count": 18,
   "metadata": {
    "execution": {
     "iopub.execute_input": "2021-02-15T16:57:09.689066Z",
     "iopub.status.busy": "2021-02-15T16:57:09.688097Z",
     "iopub.status.idle": "2021-02-15T16:57:09.703084Z",
     "shell.execute_reply": "2021-02-15T16:57:09.703557Z"
    },
    "papermill": {
     "duration": 0.05059,
     "end_time": "2021-02-15T16:57:09.703739",
     "exception": false,
     "start_time": "2021-02-15T16:57:09.653149",
     "status": "completed"
    },
    "tags": []
   },
   "outputs": [
    {
     "data": {
      "text/html": [
       "<div>\n",
       "<style scoped>\n",
       "    .dataframe tbody tr th:only-of-type {\n",
       "        vertical-align: middle;\n",
       "    }\n",
       "\n",
       "    .dataframe tbody tr th {\n",
       "        vertical-align: top;\n",
       "    }\n",
       "\n",
       "    .dataframe thead th {\n",
       "        text-align: right;\n",
       "    }\n",
       "</style>\n",
       "<table border=\"1\" class=\"dataframe\">\n",
       "  <thead>\n",
       "    <tr style=\"text-align: right;\">\n",
       "      <th></th>\n",
       "      <th>Order Number</th>\n",
       "      <th>Order Status</th>\n",
       "      <th>Order Date &amp; Time</th>\n",
       "      <th>City</th>\n",
       "      <th>Payment Method</th>\n",
       "      <th>Total items</th>\n",
       "      <th>Total weight (grams)</th>\n",
       "      <th>Book Name</th>\n",
       "    </tr>\n",
       "  </thead>\n",
       "  <tbody>\n",
       "    <tr>\n",
       "      <th>1</th>\n",
       "      <td>308</td>\n",
       "      <td>Completed</td>\n",
       "      <td>10/3/2019 15:54</td>\n",
       "      <td>Rawalpindi</td>\n",
       "      <td>COD</td>\n",
       "      <td>1</td>\n",
       "      <td>200.0</td>\n",
       "      <td>Kaggle for Begginers</td>\n",
       "    </tr>\n",
       "    <tr>\n",
       "      <th>2</th>\n",
       "      <td>309</td>\n",
       "      <td>Completed</td>\n",
       "      <td>10/3/2019 16:09</td>\n",
       "      <td>Hyderabad</td>\n",
       "      <td>COD</td>\n",
       "      <td>2</td>\n",
       "      <td>200.0</td>\n",
       "      <td>Kaggle for Begginers</td>\n",
       "    </tr>\n",
       "    <tr>\n",
       "      <th>3</th>\n",
       "      <td>309</td>\n",
       "      <td>Completed</td>\n",
       "      <td>10/3/2019 16:09</td>\n",
       "      <td>Hyderabad</td>\n",
       "      <td>COD</td>\n",
       "      <td>2</td>\n",
       "      <td>200.0</td>\n",
       "      <td>Bitcoin Blockchain aur Crypto Currency - FREE ...</td>\n",
       "    </tr>\n",
       "    <tr>\n",
       "      <th>4</th>\n",
       "      <td>310</td>\n",
       "      <td>Cancelled</td>\n",
       "      <td>10/3/2019 16:42</td>\n",
       "      <td>Rawalpindi</td>\n",
       "      <td>COD</td>\n",
       "      <td>1</td>\n",
       "      <td>200.0</td>\n",
       "      <td>Kaggle for Begginers</td>\n",
       "    </tr>\n",
       "    <tr>\n",
       "      <th>5</th>\n",
       "      <td>311</td>\n",
       "      <td>Completed</td>\n",
       "      <td>10/3/2019 16:44</td>\n",
       "      <td>Karachi</td>\n",
       "      <td>COD</td>\n",
       "      <td>1</td>\n",
       "      <td>200.0</td>\n",
       "      <td>Bit Coin Block Chain aur Crypto Currency بٹ کو...</td>\n",
       "    </tr>\n",
       "  </tbody>\n",
       "</table>\n",
       "</div>"
      ],
      "text/plain": [
       "   Order Number Order Status Order Date & Time        City Payment Method  \\\n",
       "1           308    Completed   10/3/2019 15:54  Rawalpindi            COD   \n",
       "2           309    Completed   10/3/2019 16:09   Hyderabad            COD   \n",
       "3           309    Completed   10/3/2019 16:09   Hyderabad            COD   \n",
       "4           310    Cancelled   10/3/2019 16:42  Rawalpindi            COD   \n",
       "5           311    Completed   10/3/2019 16:44    Karachi             COD   \n",
       "\n",
       "   Total items  Total weight (grams)  \\\n",
       "1            1                 200.0   \n",
       "2            2                 200.0   \n",
       "3            2                 200.0   \n",
       "4            1                 200.0   \n",
       "5            1                 200.0   \n",
       "\n",
       "                                           Book Name  \n",
       "1                               Kaggle for Begginers  \n",
       "2                               Kaggle for Begginers  \n",
       "3  Bitcoin Blockchain aur Crypto Currency - FREE ...  \n",
       "4                               Kaggle for Begginers  \n",
       "5  Bit Coin Block Chain aur Crypto Currency بٹ کو...  "
      ]
     },
     "execution_count": 18,
     "metadata": {},
     "output_type": "execute_result"
    }
   ],
   "source": [
    "data.head()"
   ]
  },
  {
   "cell_type": "code",
   "execution_count": 19,
   "metadata": {
    "execution": {
     "iopub.execute_input": "2021-02-15T16:57:09.772415Z",
     "iopub.status.busy": "2021-02-15T16:57:09.771426Z",
     "iopub.status.idle": "2021-02-15T16:57:09.779215Z",
     "shell.execute_reply": "2021-02-15T16:57:09.778633Z"
    },
    "papermill": {
     "duration": 0.04314,
     "end_time": "2021-02-15T16:57:09.779358",
     "exception": false,
     "start_time": "2021-02-15T16:57:09.736218",
     "status": "completed"
    },
    "tags": []
   },
   "outputs": [],
   "source": [
    "data.drop(columns = ['Order Date & Time', 'Order Number'], inplace=True)"
   ]
  },
  {
   "cell_type": "markdown",
   "metadata": {
    "papermill": {
     "duration": 0.032315,
     "end_time": "2021-02-15T16:57:09.844747",
     "exception": false,
     "start_time": "2021-02-15T16:57:09.812432",
     "status": "completed"
    },
    "tags": []
   },
   "source": [
    "## Machine Learning"
   ]
  },
  {
   "cell_type": "markdown",
   "metadata": {
    "papermill": {
     "duration": 0.032069,
     "end_time": "2021-02-15T16:57:09.909112",
     "exception": false,
     "start_time": "2021-02-15T16:57:09.877043",
     "status": "completed"
    },
    "tags": []
   },
   "source": [
    "### Importing Libraries"
   ]
  },
  {
   "cell_type": "code",
   "execution_count": 20,
   "metadata": {
    "execution": {
     "iopub.execute_input": "2021-02-15T16:57:09.980132Z",
     "iopub.status.busy": "2021-02-15T16:57:09.979459Z",
     "iopub.status.idle": "2021-02-15T16:57:11.205985Z",
     "shell.execute_reply": "2021-02-15T16:57:11.205369Z"
    },
    "papermill": {
     "duration": 1.26438,
     "end_time": "2021-02-15T16:57:11.206133",
     "exception": false,
     "start_time": "2021-02-15T16:57:09.941753",
     "status": "completed"
    },
    "tags": []
   },
   "outputs": [],
   "source": [
    "import sklearn\n",
    "from sklearn.utils import shuffle\n",
    "from sklearn.neighbors import KNeighborsClassifier\n",
    "from sklearn import linear_model, preprocessing"
   ]
  },
  {
   "cell_type": "markdown",
   "metadata": {
    "papermill": {
     "duration": 0.031935,
     "end_time": "2021-02-15T16:57:11.270773",
     "exception": false,
     "start_time": "2021-02-15T16:57:11.238838",
     "status": "completed"
    },
    "tags": []
   },
   "source": [
    "### Label Encoding\n",
    "#### Encoding label using sklearn preprocessing"
   ]
  },
  {
   "cell_type": "code",
   "execution_count": 21,
   "metadata": {
    "execution": {
     "iopub.execute_input": "2021-02-15T16:57:11.362910Z",
     "iopub.status.busy": "2021-02-15T16:57:11.362158Z",
     "iopub.status.idle": "2021-02-15T16:57:11.523882Z",
     "shell.execute_reply": "2021-02-15T16:57:11.523310Z"
    },
    "papermill": {
     "duration": 0.220919,
     "end_time": "2021-02-15T16:57:11.524044",
     "exception": false,
     "start_time": "2021-02-15T16:57:11.303125",
     "status": "completed"
    },
    "tags": []
   },
   "outputs": [],
   "source": [
    "le = preprocessing.LabelEncoder()\n",
    "\n",
    "city = le.fit_transform(list(data[\"City\"]))\n",
    "payment = le.fit_transform(list(data[\"Payment Method\"]))\n",
    "book = le.fit_transform(list(data[\"Book Name\"]))\n",
    "item = le.fit_transform(list(data[\"Total items\"]))\n",
    "status = le.fit_transform(list(data[\"Order Status\"]))"
   ]
  },
  {
   "cell_type": "markdown",
   "metadata": {
    "papermill": {
     "duration": 0.032553,
     "end_time": "2021-02-15T16:57:11.589300",
     "exception": false,
     "start_time": "2021-02-15T16:57:11.556747",
     "status": "completed"
    },
    "tags": []
   },
   "source": [
    "#### Adding Encoded values columns of Features in DataFrame"
   ]
  },
  {
   "cell_type": "code",
   "execution_count": 22,
   "metadata": {
    "execution": {
     "iopub.execute_input": "2021-02-15T16:57:11.662940Z",
     "iopub.status.busy": "2021-02-15T16:57:11.661840Z",
     "iopub.status.idle": "2021-02-15T16:57:11.667843Z",
     "shell.execute_reply": "2021-02-15T16:57:11.668368Z"
    },
    "papermill": {
     "duration": 0.046703,
     "end_time": "2021-02-15T16:57:11.668565",
     "exception": false,
     "start_time": "2021-02-15T16:57:11.621862",
     "status": "completed"
    },
    "tags": []
   },
   "outputs": [],
   "source": [
    "data['City_Code'] , data['PM_Code'], data['Book_Code'], data['Status_Code'] = city, payment, book, status"
   ]
  },
  {
   "cell_type": "markdown",
   "metadata": {
    "papermill": {
     "duration": 0.032671,
     "end_time": "2021-02-15T16:57:11.734658",
     "exception": false,
     "start_time": "2021-02-15T16:57:11.701987",
     "status": "completed"
    },
    "tags": []
   },
   "source": [
    "#### Assigning X and Y Label and Splitting Training and Testing Data Set"
   ]
  },
  {
   "cell_type": "code",
   "execution_count": 23,
   "metadata": {
    "execution": {
     "iopub.execute_input": "2021-02-15T16:57:11.857765Z",
     "iopub.status.busy": "2021-02-15T16:57:11.850608Z",
     "iopub.status.idle": "2021-02-15T16:57:11.861565Z",
     "shell.execute_reply": "2021-02-15T16:57:11.860922Z"
    },
    "papermill": {
     "duration": 0.093899,
     "end_time": "2021-02-15T16:57:11.861713",
     "exception": false,
     "start_time": "2021-02-15T16:57:11.767814",
     "status": "completed"
    },
    "tags": []
   },
   "outputs": [],
   "source": [
    "X = list(zip(city, payment, book, data['Total items'],))\n",
    "Y = list(status)\n",
    "x_train, x_test, y_train, y_test = sklearn.model_selection.train_test_split(X, Y, test_size = 0.2)"
   ]
  },
  {
   "cell_type": "markdown",
   "metadata": {
    "papermill": {
     "duration": 0.032528,
     "end_time": "2021-02-15T16:57:11.927343",
     "exception": false,
     "start_time": "2021-02-15T16:57:11.894815",
     "status": "completed"
    },
    "tags": []
   },
   "source": [
    "### KNN - K Nearest Neighbour\n",
    "* Setting model classifier and neighbours\n",
    "* Determing model's accuracy by using model score"
   ]
  },
  {
   "cell_type": "code",
   "execution_count": 24,
   "metadata": {
    "execution": {
     "iopub.execute_input": "2021-02-15T16:57:12.069040Z",
     "iopub.status.busy": "2021-02-15T16:57:12.068164Z",
     "iopub.status.idle": "2021-02-15T16:57:12.811470Z",
     "shell.execute_reply": "2021-02-15T16:57:12.810831Z"
    },
    "papermill": {
     "duration": 0.849818,
     "end_time": "2021-02-15T16:57:12.811640",
     "exception": false,
     "start_time": "2021-02-15T16:57:11.961822",
     "status": "completed"
    },
    "tags": []
   },
   "outputs": [
    {
     "name": "stdout",
     "output_type": "stream",
     "text": [
      "Model Accuracy 92.81 %\n"
     ]
    }
   ],
   "source": [
    "model = KNeighborsClassifier(n_neighbors= int(math.sqrt(len(x_train))))\n",
    "model.fit(x_train, y_train)\n",
    "acc = model.score(x_test, y_test)\n",
    "print('Model Accuracy', round(acc*100, 2),'%')"
   ]
  },
  {
   "cell_type": "markdown",
   "metadata": {
    "papermill": {
     "duration": 0.033067,
     "end_time": "2021-02-15T16:57:12.878161",
     "exception": false,
     "start_time": "2021-02-15T16:57:12.845094",
     "status": "completed"
    },
    "tags": []
   },
   "source": [
    "### Predicting the test_data, and displaying the Predicted and Actual Result"
   ]
  },
  {
   "cell_type": "code",
   "execution_count": 25,
   "metadata": {
    "execution": {
     "iopub.execute_input": "2021-02-15T16:57:12.974565Z",
     "iopub.status.busy": "2021-02-15T16:57:12.973317Z",
     "iopub.status.idle": "2021-02-15T16:58:01.825755Z",
     "shell.execute_reply": "2021-02-15T16:58:01.826348Z"
    },
    "papermill": {
     "duration": 48.91398,
     "end_time": "2021-02-15T16:58:01.826562",
     "exception": false,
     "start_time": "2021-02-15T16:57:12.912582",
     "status": "completed"
    },
    "tags": []
   },
   "outputs": [],
   "source": [
    "predicted = model.predict(x_test)\n",
    "names = [\"Cancelled\", \"Completed\", \"Returned\"]\n",
    "pred_act = {}\n",
    "pred_data = {}\n",
    "\n",
    "\n",
    "for x in range(len(predicted)):\n",
    "    pred_act[x] = \"Predicted: \", names[predicted[x]], 'Actual: ', names[y_test[x]]\n",
    "    \n",
    "    pred_data[x] = \"City: \",data[data['City_Code'] == x_test[x][0]]['City'].values[0],'Payment Method: ', data[data['PM_Code'] == x_test[x][1]]['Payment Method'].values[0],'Book Name: ', data[data['Book_Code'] == x_test[x][2]]['Book Name'].values[0], 'Total items: ', data[data['Total items'] == x_test[x][3]]['Total items'].values[0]\n",
    "           "
   ]
  },
  {
   "cell_type": "code",
   "execution_count": 26,
   "metadata": {
    "execution": {
     "iopub.execute_input": "2021-02-15T16:58:01.904415Z",
     "iopub.status.busy": "2021-02-15T16:58:01.903715Z",
     "iopub.status.idle": "2021-02-15T16:58:01.965504Z",
     "shell.execute_reply": "2021-02-15T16:58:01.964900Z"
    },
    "papermill": {
     "duration": 0.104309,
     "end_time": "2021-02-15T16:58:01.965688",
     "exception": false,
     "start_time": "2021-02-15T16:58:01.861379",
     "status": "completed"
    },
    "tags": []
   },
   "outputs": [],
   "source": [
    "data['City'] = data['City'].str.lower()\n",
    "data['Payment Method'] = data['Payment Method'].str.lower()\n",
    "data['Book Name'] = data['Book Name'].str.lower()"
   ]
  },
  {
   "cell_type": "markdown",
   "metadata": {
    "papermill": {
     "duration": 0.03316,
     "end_time": "2021-02-15T16:58:02.032705",
     "exception": false,
     "start_time": "2021-02-15T16:58:01.999545",
     "status": "completed"
    },
    "tags": []
   },
   "source": [
    "## Predicting the Probability"
   ]
  },
  {
   "cell_type": "markdown",
   "metadata": {
    "papermill": {
     "duration": 0.033114,
     "end_time": "2021-02-15T16:58:02.099044",
     "exception": false,
     "start_time": "2021-02-15T16:58:02.065930",
     "status": "completed"
    },
    "tags": []
   },
   "source": [
    "### Predicting the possibility, whether the given order will be Returned, Completed or Cancelled in terms of probability"
   ]
  },
  {
   "cell_type": "code",
   "execution_count": 27,
   "metadata": {
    "execution": {
     "iopub.execute_input": "2021-02-15T16:58:02.175168Z",
     "iopub.status.busy": "2021-02-15T16:58:02.174388Z",
     "iopub.status.idle": "2021-02-15T16:58:02.210894Z",
     "shell.execute_reply": "2021-02-15T16:58:02.210344Z"
    },
    "papermill": {
     "duration": 0.078779,
     "end_time": "2021-02-15T16:58:02.211045",
     "exception": false,
     "start_time": "2021-02-15T16:58:02.132266",
     "status": "completed"
    },
    "tags": []
   },
   "outputs": [
    {
     "name": "stdout",
     "output_type": "stream",
     "text": [
      "City Name: Karachi\n",
      "\n",
      "\n",
      "Payment Method - (COD, BankTransfer, EasyPaisa, JazzCash): Easypaisa\n",
      "\n",
      "\n",
      "Book Name: Kaggle For Begginers\n",
      "\n",
      "\n",
      "Number of items: 2\n",
      "\n",
      "\n",
      "\n",
      "\n",
      "Based on given variables:\n",
      "City: Karachi , Payment Method: Easypaisa , Book Name: Kaggle For Begginers , Number of items: 2\n",
      "\n",
      "PROBABILITY OF ORDER RETURNED: 2.0%\n",
      "PROBABILITY OF ORDER COMPLETED: 96.0%\n",
      "PROBABILITY OF ORDER CANCELLED: 2.0%\n"
     ]
    }
   ],
   "source": [
    "#Checking for dummy values\n",
    "\n",
    "cty = 'karachi'.lower()\n",
    "print(f'City Name: {cty.title()}')\n",
    "print('\\n')\n",
    "paym = 'easypaisa'.lower()\n",
    "print(f'Payment Method - (COD, BankTransfer, EasyPaisa, JazzCash): {paym.title()}')\n",
    "print('\\n')\n",
    "bk = 'kaggle for begginers'.lower()\n",
    "print(f'Book Name: {bk.title()}')\n",
    "print('\\n')\n",
    "itm = 2\n",
    "print(f'Number of items: {itm}')\n",
    "print('\\n')\n",
    "\n",
    "ans_city = data[data['City'] == cty]['City_Code'].values[0]\n",
    "ans_pm = data[data['Payment Method'] == paym]['PM_Code'].values[0]\n",
    "ans_book = data[data['Book Name'] == bk]['Book_Code'].values[0]\n",
    "\n",
    "fin = [(ans_city, ans_pm, ans_book, itm)]\n",
    "print('\\n')\n",
    "\n",
    "print(f'Based on given variables:\\nCity: {cty.title()} , Payment Method: {paym.title()} , Book Name: {bk.title()} , Number of items: {itm}\\n')\n",
    "\n",
    "print(f'PROBABILITY OF ORDER RETURNED: {round(model.predict_proba(fin)[0][2], 2)*100}%')\n",
    "\n",
    "print(f'PROBABILITY OF ORDER COMPLETED: {round(model.predict_proba(fin)[0][1], 2)*100}%')\n",
    "\n",
    "print(f'PROBABILITY OF ORDER CANCELLED: {round(model.predict_proba(fin)[0][0], 2)*100}%')\n",
    "\n",
    "\n"
   ]
  },
  {
   "cell_type": "markdown",
   "metadata": {
    "papermill": {
     "duration": 0.033435,
     "end_time": "2021-02-15T16:58:02.278564",
     "exception": false,
     "start_time": "2021-02-15T16:58:02.245129",
     "status": "completed"
    },
    "tags": []
   },
   "source": [
    "### Above task has been performed using KNN model, with model accuracy of around 93%.\n",
    "### Probability of returned, completed and cancelled order has also been determined.\n",
    "\n",
    "### Feel free to let me know what changes can be done to make the model more accurate."
   ]
  },
  {
   "cell_type": "code",
   "execution_count": null,
   "metadata": {
    "papermill": {
     "duration": 0.033754,
     "end_time": "2021-02-15T16:58:02.346644",
     "exception": false,
     "start_time": "2021-02-15T16:58:02.312890",
     "status": "completed"
    },
    "tags": []
   },
   "outputs": [],
   "source": []
  }
 ],
 "metadata": {
  "kernelspec": {
   "display_name": "Python 3",
   "language": "python",
   "name": "python3"
  },
  "language_info": {
   "codemirror_mode": {
    "name": "ipython",
    "version": 3
   },
   "file_extension": ".py",
   "mimetype": "text/x-python",
   "name": "python",
   "nbconvert_exporter": "python",
   "pygments_lexer": "ipython3",
   "version": "3.7.9"
  },
  "papermill": {
   "default_parameters": {},
   "duration": 65.396645,
   "end_time": "2021-02-15T16:58:03.091027",
   "environment_variables": {},
   "exception": null,
   "input_path": "__notebook__.ipynb",
   "output_path": "__notebook__.ipynb",
   "parameters": {},
   "start_time": "2021-02-15T16:56:57.694382",
   "version": "2.2.2"
  }
 },
 "nbformat": 4,
 "nbformat_minor": 4
}
